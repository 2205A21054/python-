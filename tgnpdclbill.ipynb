{
  "nbformat": 4,
  "nbformat_minor": 0,
  "metadata": {
    "colab": {
      "provenance": [],
      "authorship_tag": "ABX9TyPyHW6TB/w/N5yVjKpfRso2",
      "include_colab_link": true
    },
    "kernelspec": {
      "name": "python3",
      "display_name": "Python 3"
    },
    "language_info": {
      "name": "python"
    }
  },
  "cells": [
    {
      "cell_type": "markdown",
      "metadata": {
        "id": "view-in-github",
        "colab_type": "text"
      },
      "source": [
        "<a href=\"https://colab.research.google.com/github/2205A21054/python-/blob/main/tgnpdclbill.ipynb\" target=\"_parent\"><img src=\"https://colab.research.google.com/assets/colab-badge.svg\" alt=\"Open In Colab\"/></a>"
      ]
    },
    {
      "cell_type": "code",
      "execution_count": 92,
      "metadata": {
        "id": "8kakBF1KStOj"
      },
      "outputs": [],
      "source": [
        " def res(pu,cu):\n",
        "  u=cu-pu\n",
        "  ed=0.06*u\n",
        "  if(u==0):\n",
        "    ec=50\n",
        "    fc=10\n",
        "    cc=40\n",
        "  if(u>0 and u<=100):\n",
        "    if(u<=50):\n",
        "     ec=1.95*u\n",
        "     fc=10\n",
        "     cc=40\n",
        "    else:\n",
        "      ec=3.1*u\n",
        "      fc=10\n",
        "      cc=70\n",
        "  else:\n",
        "   if(u>100 and u<=200):\n",
        "     ec=100*3.40+(u-100)*4.8\n",
        "     fc=10\n",
        "     cc=90\n",
        "   else:\n",
        "    print(\"application is not supported\")\n",
        "  bill_amount=ec+fc+cc+ed\n",
        "  return ec,fc,cc,ed,bill_amount"
      ]
    },
    {
      "cell_type": "code",
      "source": [
        " def com(pu,cu):\n",
        "  u=cu-pu\n",
        "  ed=0.06*u\n",
        "  if(u<=50):\n",
        "    ec=7*u\n",
        "    fc=60\n",
        "    cc=50\n",
        "  else:\n",
        "    print(\"application is not supported\")\n",
        "  bill_amount=ec+fc+cc+ed\n",
        "  return ec,fc,cc,ed,bill_amount"
      ],
      "metadata": {
        "id": "8pV6usxFYP91"
      },
      "execution_count": 93,
      "outputs": []
    },
    {
      "cell_type": "code",
      "source": [
        "def adv(pu,cu):\n",
        "  u=cu-pu\n",
        "  ed=0.06*u\n",
        "  if(u>0):\n",
        "   ec=13*u\n",
        "   fc=70\n",
        "   cc=160\n",
        "  else:\n",
        "    ec=300\n",
        "    fc=70\n",
        "    cc=160\n",
        "  bill_ammount=ed+ec+fc+cc\n",
        "  return ed,ec,fc,cc,bill_ammount"
      ],
      "metadata": {
        "id": "vLOtK2jcZG9l"
      },
      "execution_count": 94,
      "outputs": []
    }
  ]
}